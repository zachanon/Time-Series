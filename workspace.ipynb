{
 "cells": [
  {
   "cell_type": "code",
   "execution_count": 1,
   "metadata": {},
   "outputs": [],
   "source": [
    "import numpy as np\n",
    "import matplotlib.pyplot as plt"
   ]
  },
  {
   "cell_type": "code",
   "execution_count": 2,
   "metadata": {},
   "outputs": [],
   "source": [
    "import pandas as pds"
   ]
  },
  {
   "cell_type": "code",
   "execution_count": 3,
   "metadata": {},
   "outputs": [],
   "source": [
    "import torch\n",
    "import torch.nn as nn"
   ]
  },
  {
   "cell_type": "code",
   "execution_count": 4,
   "metadata": {},
   "outputs": [],
   "source": [
    "rawdata = pds.read_csv(\"data/energydata_complete.csv\")\n",
    "#rawdata.dtypes"
   ]
  },
  {
   "cell_type": "code",
   "execution_count": null,
   "metadata": {},
   "outputs": [],
   "source": []
  },
  {
   "cell_type": "code",
   "execution_count": 5,
   "metadata": {},
   "outputs": [],
   "source": [
    "#timestamps are in regular 10 minute intervals, so can model as-if continuous.\n",
    "data = rawdata.values[:,1:]\n",
    "numdata = data.shape[0]\n",
    "order = 3\n",
    "dim = data.shape[-1]\n",
    "numsamples = numdata-order+1\n",
    "\n",
    "sequenced = np.zeros([numsamples, order, dim])\n",
    "for n in range(0, numsamples):\n",
    "    begin = n\n",
    "    end = n+order\n",
    "    \n",
    "    sequenced[n]= data[begin:end]\n"
   ]
  },
  {
   "cell_type": "code",
   "execution_count": 6,
   "metadata": {},
   "outputs": [],
   "source": [
    "batch_dim = 16\n",
    "\n",
    "numbatches = round(numsamples/batch_dim)\n",
    "    \n",
    "    \n",
    "batched = np.reshape(sequenced[:batch_dim*numbatches], [numbatches, batch_dim, order, dim])"
   ]
  },
  {
   "cell_type": "code",
   "execution_count": 7,
   "metadata": {},
   "outputs": [],
   "source": [
    "samples, order, dim = batched[0].shape\n",
    "\n",
    "testbatch = np.reshape(batched[0], [samples, order*dim])\n",
    "testbatch = torch.from_numpy(testbatch.astype(np.float32))"
   ]
  },
  {
   "cell_type": "code",
   "execution_count": 8,
   "metadata": {},
   "outputs": [],
   "source": [
    "class AutoregressionModelLinear(nn.Module):\n",
    "    \n",
    "    def __init__(self,dim):\n",
    "        super(AutoregressionModelLinear, self).__init__()\n",
    "        \n",
    "        self.dense = nn.Linear(dim, dim)\n",
    "        \n",
    "    def forward(self, x):\n",
    "        \n",
    "        return self.dense(x)"
   ]
  },
  {
   "cell_type": "code",
   "execution_count": 11,
   "metadata": {},
   "outputs": [],
   "source": [
    "model = AutoregressionModelLinear(dim=order*dim)"
   ]
  },
  {
   "cell_type": "code",
   "execution_count": 12,
   "metadata": {},
   "outputs": [
    {
     "data": {
      "text/plain": [
       "torch.Size([16, 84])"
      ]
     },
     "execution_count": 12,
     "metadata": {},
     "output_type": "execute_result"
    }
   ],
   "source": [
    "y = model(testbatch)\n",
    "y.shape"
   ]
  },
  {
   "cell_type": "code",
   "execution_count": null,
   "metadata": {},
   "outputs": [],
   "source": []
  },
  {
   "cell_type": "code",
   "execution_count": null,
   "metadata": {},
   "outputs": [],
   "source": []
  }
 ],
 "metadata": {
  "kernelspec": {
   "display_name": "Python 3",
   "language": "python",
   "name": "python3"
  },
  "language_info": {
   "codemirror_mode": {
    "name": "ipython",
    "version": 3
   },
   "file_extension": ".py",
   "mimetype": "text/x-python",
   "name": "python",
   "nbconvert_exporter": "python",
   "pygments_lexer": "ipython3",
   "version": "3.8.3"
  }
 },
 "nbformat": 4,
 "nbformat_minor": 4
}
